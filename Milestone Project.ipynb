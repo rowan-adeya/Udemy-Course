{
 "cells": [
  {
   "cell_type": "markdown",
   "id": "1b02293d",
   "metadata": {},
   "source": [
    "### Step 1: Imports"
   ]
  },
  {
   "cell_type": "code",
   "execution_count": 1,
   "id": "8d4b71c5",
   "metadata": {},
   "outputs": [],
   "source": [
    "from IPython.display import clear_output\n",
    "\n",
    "import random "
   ]
  },
  {
   "cell_type": "markdown",
   "id": "6ca32961",
   "metadata": {},
   "source": [
    "### Step 2: Display Board"
   ]
  },
  {
   "cell_type": "code",
   "execution_count": 2,
   "id": "0c594f65",
   "metadata": {
    "scrolled": true
   },
   "outputs": [],
   "source": [
    "def display_board(board):\n",
    "    clear_output()\n",
    "    \n",
    "    print('   |   |')\n",
    "    print(' ' + board[7] + ' | ' + board[8] + ' | ' + board[9])\n",
    "    print('   |   |')\n",
    "    print('-----------')\n",
    "    print('   |   |')\n",
    "    print(' ' + board[4] + ' | ' + board[5] + ' | ' + board[6])\n",
    "    print('   |   |')\n",
    "    print('-----------')\n",
    "    print('   |   |')\n",
    "    print(' ' + board[1] + ' | ' + board[2] + ' | ' + board[3])\n",
    "    print('   |   |')"
   ]
  },
  {
   "cell_type": "markdown",
   "id": "50b8675b",
   "metadata": {},
   "source": [
    "### Step 3: Assigning Markers via User Input"
   ]
  },
  {
   "cell_type": "code",
   "execution_count": 3,
   "id": "2a9ae4cb",
   "metadata": {},
   "outputs": [],
   "source": [
    "def user_input():\n",
    "##################### Assigning Player 1 ###############################    \n",
    "\n",
    "    while True:\n",
    "        \n",
    "        player1 = input(\"Is player 1 'X' or 'O'?\")\n",
    "        \n",
    "        \n",
    "        if player1 not in ['X','O']:\n",
    "            print(\"Invalid input. Please try again.\")\n",
    "        else:\n",
    "            break\n",
    "        \n",
    "        \n",
    "##################### Assigning Player 2 ###############################\n",
    "\n",
    "    if player1 == 'X':\n",
    "        return ('X','O')\n",
    "    else:\n",
    "        return ('O','X')"
   ]
  },
  {
   "cell_type": "markdown",
   "id": "8d62b57f",
   "metadata": {},
   "source": [
    "### Step 4: Placing marker on board"
   ]
  },
  {
   "cell_type": "code",
   "execution_count": 4,
   "id": "46f291e6",
   "metadata": {},
   "outputs": [],
   "source": [
    "def place_marker(board, marker, position):\n",
    "    \n",
    "    board[position] = marker\n",
    "    "
   ]
  },
  {
   "cell_type": "markdown",
   "id": "1782c962",
   "metadata": {},
   "source": [
    "### Step 5: Defining win conditions"
   ]
  },
  {
   "cell_type": "code",
   "execution_count": 5,
   "id": "5db397e9",
   "metadata": {},
   "outputs": [],
   "source": [
    "def win_check(board, mark):\n",
    "    \n",
    "    return ((board[7]==mark and board[8]==mark and board[9]==mark) or\n",
    "           (board[4]==mark and board[5]==mark and board[6]==mark) or\n",
    "           (board[1]==mark and board[2]==mark and board[3]==mark) or\n",
    "           (board[7]==mark and board[4]==mark and board[1]==mark) or\n",
    "           (board[8]==mark and board[5]==mark and board[2]==mark) or\n",
    "           (board[9]==mark and board[6]==mark and board[3]==mark) or\n",
    "           (board[7]==mark and board[5]==mark and board[3]==mark) or\n",
    "           (board[9]==mark and board[5]==mark and board[1]==mark))\n"
   ]
  },
  {
   "cell_type": "markdown",
   "id": "b00438a4",
   "metadata": {},
   "source": [
    "### Step 6: Choosing starting player randomly"
   ]
  },
  {
   "cell_type": "code",
   "execution_count": 6,
   "id": "43fe6ec1",
   "metadata": {},
   "outputs": [
    {
     "data": {
      "text/plain": [
       "'Player 2'"
      ]
     },
     "execution_count": 6,
     "metadata": {},
     "output_type": "execute_result"
    }
   ],
   "source": [
    "def first_move():\n",
    "    \n",
    "    return random.choice([\"Player 1\",\"Player 2\"])\n",
    "    \n",
    "    \n",
    "\n",
    "first_move()"
   ]
  },
  {
   "cell_type": "markdown",
   "id": "e069f1b0",
   "metadata": {},
   "source": [
    "### Step 7: Checking whether space on board is free"
   ]
  },
  {
   "cell_type": "code",
   "execution_count": 7,
   "id": "6664ea8c",
   "metadata": {},
   "outputs": [],
   "source": [
    "def space_check(board, position):\n",
    "    \n",
    "    if board[position]==\"\":\n",
    "        \n",
    "        return True\n",
    "    else:\n",
    "        \n",
    "        return False"
   ]
  },
  {
   "cell_type": "markdown",
   "id": "cb3d93ba",
   "metadata": {},
   "source": [
    "### Step 8: Checking whether board is full"
   ]
  },
  {
   "cell_type": "code",
   "execution_count": 8,
   "id": "f4443c3b",
   "metadata": {},
   "outputs": [],
   "source": [
    "def full_board_check(board):\n",
    "    \n",
    "    if \"\" not in board:\n",
    "        \n",
    "        return True\n",
    "    \n",
    "    else:\n",
    "        \n",
    "        return False\n"
   ]
  },
  {
   "cell_type": "markdown",
   "id": "b8b9ab03",
   "metadata": {},
   "source": [
    "### Step 9: Checking whether marker is valid"
   ]
  },
  {
   "cell_type": "code",
   "execution_count": 9,
   "id": "5193de82",
   "metadata": {},
   "outputs": [],
   "source": [
    "def player_choice(board):\n",
    "    \n",
    "    position = 0\n",
    "    \n",
    "    while position not in [1,2,3,4,5,6,7,8,9] or not space_check(board, position):\n",
    "        position = int(input('Choose your next position: (1-9) '))\n",
    "        \n",
    "    return position"
   ]
  },
  {
   "cell_type": "markdown",
   "id": "e7629676",
   "metadata": {},
   "source": [
    "### Step 10: Asking whether they want to replay"
   ]
  },
  {
   "cell_type": "code",
   "execution_count": 10,
   "id": "c76a6936",
   "metadata": {},
   "outputs": [],
   "source": [
    "def replay():\n",
    "    \n",
    "    while True:\n",
    "        \n",
    "        replay_choice = input(\"Do you want to play again? If so, please input 'yes'. If not, please input 'no'.\")\n",
    "        \n",
    "        if replay_choice not in ['yes','no']:\n",
    "            print(\"Invalid input. Please try again.\")\n",
    "            \n",
    "        elif replay_choice==['yes','no'][0]:\n",
    "            \n",
    "            return True \n",
    "        else:\n",
    "            break\n",
    "            \n",
    "        \n",
    "    \n",
    "    "
   ]
  },
  {
   "cell_type": "code",
   "execution_count": null,
   "id": "0e73e4e4",
   "metadata": {},
   "outputs": [
    {
     "name": "stdout",
     "output_type": "stream",
     "text": [
      "   |   |\n",
      " O | X | \n",
      "   |   |\n",
      "-----------\n",
      "   |   |\n",
      " X | X | O\n",
      "   |   |\n",
      "-----------\n",
      "   |   |\n",
      " X | O | O\n",
      "   |   |\n"
     ]
    }
   ],
   "source": [
    "print('Welcome to Tic Tac Toe!')\n",
    "\n",
    "\n",
    "while True:\n",
    "    player1_marker, player2_marker = user_input() #use tuple to assign markers\n",
    "    main_board = [\"\"]*10  #Give empty board\n",
    "    turn = first_move()\n",
    "    print(turn + ' will go first')\n",
    "    \n",
    "    \n",
    "    play_game = input(\"Do you want to play the game? Enter Y or N\")\n",
    "    \n",
    "    if play_game.upper()=='Y':\n",
    "        game_on = True\n",
    "    else:\n",
    "        game_on = False\n",
    "        \n",
    "    while game_on:\n",
    "        \n",
    "        if turn == 'Player 1':\n",
    "            display_board(main_board)\n",
    "            position = player_choice(main_board)\n",
    "            place_marker(main_board,player1_marker,position)\n",
    "            \n",
    "            if win_check(main_board,player1_marker)==True:\n",
    "                display_board(main_board)\n",
    "                print(\"The winner is player 1!\")\n",
    "                game_on = False\n",
    "            else:\n",
    "                if full_board_check(main_board):\n",
    "                    display_board(main_board)\n",
    "                    print(\"Draw!\")\n",
    "                    break\n",
    "                else:\n",
    "                    turn = 'Player 2'\n",
    "                    \n",
    "        else:   \n",
    "                \n",
    "            display_board(main_board)\n",
    "            position = player_choice(main_board)\n",
    "            place_marker(main_board,player2_marker,position)\n",
    "            \n",
    "            if win_check(main_board,player2_marker)==True:\n",
    "                display_board(main_board)\n",
    "                print(\"The winner is player 2!\")\n",
    "                game_on = False\n",
    "            else:\n",
    "                if full_board_check(main_board)==True:\n",
    "                    display_board(main_board)\n",
    "                    print(\"Draw!\")\n",
    "                    break\n",
    "                else:\n",
    "                    turn = 'Player 1'\n",
    "            \n",
    "    if not replay():\n",
    "            break \n",
    "    \n",
    "    "
   ]
  },
  {
   "cell_type": "code",
   "execution_count": null,
   "id": "92292b89",
   "metadata": {},
   "outputs": [],
   "source": []
  },
  {
   "cell_type": "code",
   "execution_count": null,
   "id": "ecb7624b",
   "metadata": {},
   "outputs": [],
   "source": []
  }
 ],
 "metadata": {
  "kernelspec": {
   "display_name": "Python 3 (ipykernel)",
   "language": "python",
   "name": "python3"
  },
  "language_info": {
   "codemirror_mode": {
    "name": "ipython",
    "version": 3
   },
   "file_extension": ".py",
   "mimetype": "text/x-python",
   "name": "python",
   "nbconvert_exporter": "python",
   "pygments_lexer": "ipython3",
   "version": "3.9.13"
  }
 },
 "nbformat": 4,
 "nbformat_minor": 5
}
